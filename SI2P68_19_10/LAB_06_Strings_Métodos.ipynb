{
  "cells": [
    {
      "cell_type": "markdown",
      "metadata": {
        "id": "OBHf510MZXPG"
      },
      "source": [
        "### **STRINGS - MÉTODOS**"
      ]
    },
    {
      "cell_type": "markdown",
      "metadata": {
        "id": "QIrt1gG_ipRS"
      },
      "source": [
        "**1) Operadores para objetos iteráveis: IN e NOT IN**"
      ]
    },
    {
      "cell_type": "code",
      "execution_count": null,
      "metadata": {
        "colab": {
          "base_uri": "https://localhost:8080/"
        },
        "id": "uHVGuJchZXPb",
        "outputId": "98dfca7b-5915-4e05-e989-d65e6c2c87f4"
      },
      "outputs": [
        {
          "output_type": "stream",
          "name": "stdout",
          "text": [
            "True\n",
            "False\n"
          ]
        }
      ],
      "source": [
        "# Operadores IN ou NOT IN permite verificar a ocorrência dentro de um objeto iterável.\n",
        "\n",
        "texto = \"bom dia prezados estudantes de python. o python é a melhor linguagem de programação\"\n",
        "\n",
        "print('bom' in texto)\n",
        "\n",
        "print('ótimo' in texto)"
      ]
    },
    {
      "cell_type": "markdown",
      "metadata": {
        "id": "NcnP0DspZXPi"
      },
      "source": [
        "**2) string.capitalize()**"
      ]
    },
    {
      "cell_type": "code",
      "execution_count": null,
      "metadata": {
        "id": "ko5Tf_FxljSe",
        "colab": {
          "base_uri": "https://localhost:8080/"
        },
        "outputId": "03252896-0bd6-4297-8fec-552c6ec29296"
      },
      "outputs": [
        {
          "output_type": "stream",
          "name": "stdout",
          "text": [
            "Bom dia prezados estudantes de python. o python é a melhor linguagem de programação\n",
            "Bom dia prezados estudantes de python. o python é a melhor linguagem de programação\n"
          ]
        }
      ],
      "source": [
        "# Converte a primeira letra para maiúsculo.\n",
        "\n",
        "texto = \"bom dia prezados estudantes de python. o python é a melhor linguagem de programação\"\n",
        "\n",
        "x = texto.capitalize()\n",
        "\n",
        "print (x)\n",
        "print (texto.capitalize())"
      ]
    },
    {
      "cell_type": "code",
      "execution_count": null,
      "metadata": {
        "colab": {
          "base_uri": "https://localhost:8080/",
          "height": 35
        },
        "id": "x7VCeTBJZXPo",
        "outputId": "dfda34b9-03f6-4db3-a43c-85a63678345d"
      },
      "outputs": [
        {
          "output_type": "execute_result",
          "data": {
            "text/plain": [
              "'Bom dia prezados estudantes de python. o python é a melhor linguagem de programação'"
            ],
            "application/vnd.google.colaboratory.intrinsic+json": {
              "type": "string"
            }
          },
          "metadata": {},
          "execution_count": 3
        }
      ],
      "source": [
        "texto.capitalize()"
      ]
    },
    {
      "cell_type": "markdown",
      "metadata": {
        "id": "3OREZ3HBi7W3"
      },
      "source": [
        "**3) string.count(value, start, end)** value é obrigatório."
      ]
    },
    {
      "cell_type": "code",
      "execution_count": null,
      "metadata": {
        "colab": {
          "base_uri": "https://localhost:8080/"
        },
        "id": "N1rQVuHzZXPt",
        "outputId": "4e988eb9-a919-4002-a539-b75b5cbf1500"
      },
      "outputs": [
        {
          "output_type": "stream",
          "name": "stdout",
          "text": [
            "2\n",
            "2\n",
            "1\n"
          ]
        }
      ],
      "source": [
        "# Permite a contagem de um caracter ou caracteres (palavras) dentro de uma string.\n",
        "\n",
        "texto = \"bom dia prezados estudantes de python. o python é a melhor linguagem de programação\"\n",
        "\n",
        "x = texto.count(\"python\")\n",
        "y = texto.count('python', 31)\n",
        "z = texto.count('python', 32)\n",
        "\n",
        "print (x)\n",
        "print (y)\n",
        "print (z)"
      ]
    },
    {
      "cell_type": "markdown",
      "metadata": {
        "id": "9TFFIhR1ZXPx"
      },
      "source": [
        "**4) string.find(value, start, end)** value é obrigatório.   \n",
        "**5 )string.index(value, start, end)** value é obrigatório."
      ]
    },
    {
      "cell_type": "code",
      "execution_count": null,
      "metadata": {
        "id": "gYA72jSQZXPz"
      },
      "outputs": [],
      "source": [
        "# Serve para pesquisar se uma string está dentro da outra e obter a posição da primeira ocorrência.\n",
        "# Caso a string seja encontrada, retornará um valor maior ou igual a zero (posição da string), ou -1, caso contrário.\n",
        "# O valor retornado, quando maior ou igual a zero, é igual ao indice do primeiro caractere da string. \n",
        "\n",
        "texto = \"bom dia prezados estudantes de python. o python é a melhor linguagem de programação\"\n",
        "\n",
        "x = texto.find (\"python\")\n",
        "y = texto.find('python1')\n",
        "\n",
        "print (x)\n",
        "print (y)"
      ]
    },
    {
      "cell_type": "markdown",
      "metadata": {
        "id": "8-lDwJVqZXP2"
      },
      "source": [
        "**Diferença entre FIND e INDEX.**   \n",
        "**Quando não existe o valor: FIND retorna \"-1\" e INDEX gera uma exceção (erro).**"
      ]
    },
    {
      "cell_type": "code",
      "execution_count": null,
      "metadata": {
        "id": "aEHPnL1wZXP4"
      },
      "outputs": [],
      "source": [
        "# Os métodos find() e index() são bem parecidos.\n",
        "# A maior diferença é que, se a substring não for encontrada, index() lançam uma exceção (erro) do tipo ValueError.\n",
        "\n",
        "texto = \"bom dia prezados estudantes de python. o python é a melhor linguagem de programação\"\n",
        "\n",
        "x = texto.find (\"python\")\n",
        "print (x)\n",
        "\n",
        "x = texto.index('python')\n",
        "print (x)\n",
        "\n",
        "x =texto.find('python1')\n",
        "print (x)\n",
        "\n",
        "x = texto.index('python1')"
      ]
    },
    {
      "cell_type": "markdown",
      "metadata": {
        "id": "mdVWnbzEZXP6"
      },
      "source": [
        "**6) string.isdigit()**"
      ]
    },
    {
      "cell_type": "code",
      "execution_count": null,
      "metadata": {
        "id": "c3EXFvr1ZXP8"
      },
      "outputs": [],
      "source": [
        "texto  = \"bom dia prezados estudantes de python. o python é a melhor linguagem de programação\"\n",
        "texto1 = '123456'\n",
        "\n",
        "x = texto.isdigit()\n",
        "y = texto1.isdigit()\n",
        "\n",
        "print (x)\n",
        "print (y)"
      ]
    },
    {
      "cell_type": "markdown",
      "metadata": {
        "id": "t2-CG6TUZXP9"
      },
      "source": [
        "**7) string.lower()**  \n",
        "**8) string.upper()**"
      ]
    },
    {
      "cell_type": "code",
      "execution_count": null,
      "metadata": {
        "id": "v37sFmDjZXP-"
      },
      "outputs": [],
      "source": [
        "# método lower() converte a string para minúsculos.\n",
        "\n",
        "texto = \"BOM DIA PREZADOS ESTUDANTES DE PYTHON. O PYTHON É A MELHOR LINGUAGEM DE PROGRAMAÇÃO\"\n",
        "\n",
        "x = texto.lower()\n",
        "\n",
        "print (x)"
      ]
    },
    {
      "cell_type": "code",
      "execution_count": null,
      "metadata": {
        "id": "cLo-hxQnZXQA"
      },
      "outputs": [],
      "source": [
        "# método upper() converte a string para maiúsculos.\n",
        "\n",
        "texto = \"bom dia prezados estudantes de python. o python é a melhor linguagem de programação\"\n",
        "\n",
        "x = texto.upper()\n",
        "\n",
        "print (x)"
      ]
    },
    {
      "cell_type": "markdown",
      "metadata": {
        "id": "yFBup_iLZXQB"
      },
      "source": [
        "**9) string.replace(oldvalue, newvalue, count)**"
      ]
    },
    {
      "cell_type": "code",
      "execution_count": null,
      "metadata": {
        "id": "_y1rXtbpZXQC"
      },
      "outputs": [],
      "source": [
        "# O método replace() permite substiruir techos de uma string por outros.\n",
        "# O primeiro parâmetro é a string a substituir (oldvalue);\n",
        "# e o segundo, o conteúdo que a substituirá (newvalue);\n",
        "# Opcionalmente, podemos passar um terceiro parâmetro (count) que limita quantas vezes a substituição será feita.\n",
        "\n",
        "texto = \"bom dia prezados estudantes de python. o python é a melhor linguagem de programação\"\n",
        "\n",
        "x = texto.replace('python', 'ciência de dados')\n",
        "print (x)"
      ]
    },
    {
      "cell_type": "code",
      "execution_count": null,
      "metadata": {
        "id": "cQWotB93ZXQD"
      },
      "outputs": [],
      "source": [
        "texto = \"bom dia prezados estudantes de python. o python é a melhor linguagem de programação\"\n",
        "\n",
        "x = texto.replace('python', 'ciência de dados', 1)\n",
        "print (x)"
      ]
    },
    {
      "cell_type": "markdown",
      "metadata": {
        "id": "x1Tkj76ZZXQF"
      },
      "source": [
        "**10) string.split(separator, maxsplit)** o separador default é um espaço em branco.  \n",
        "**11) string.strip(characters)**"
      ]
    },
    {
      "cell_type": "code",
      "execution_count": null,
      "metadata": {
        "id": "C-8ya8YrZXQG"
      },
      "outputs": [],
      "source": [
        "# o Método split() quebra uma string a partir de um caractere passado como parámetro,\n",
        "# retornando uma LISTA com as substrings já separadas.\n",
        "\n",
        "texto = \"bom dia prezados estudantes de python. o python é a melhor linguagem de programação\"\n",
        "\n",
        "x = texto.split('.')\n",
        "y = texto.split()\n",
        "z = texto.split(' ', 1)\n",
        "\n",
        "\n",
        "print (x)\n",
        "print (y)\n",
        "print (z)\n",
        "print (z[0])\n",
        "print (texto[0])"
      ]
    },
    {
      "cell_type": "code",
      "execution_count": null,
      "metadata": {
        "id": "pldZl1FlZXQH"
      },
      "outputs": [],
      "source": [
        "# o Método strip() é utilizado para remover espaçõs em branco do início e do fim da string.  \n",
        "# Já os métodos lstrip() e rstrip() removem apenas os carcteres em branco à esquerda ou à direita, respectivamente. \n",
        "\n",
        "texto = \"   bom dia prezados estudantes de python. o python é a melhor linguagem de programação   \"\n",
        "\n",
        "x = texto.strip()\n",
        "\n",
        "print (texto)\n",
        "print (x)\n"
      ]
    },
    {
      "cell_type": "markdown",
      "metadata": {
        "id": "d4PUWdAqZXQI"
      },
      "source": [
        "**Aplicando vários métodos juntos.**"
      ]
    },
    {
      "cell_type": "code",
      "execution_count": null,
      "metadata": {
        "id": "lrLVQlfzZXQJ"
      },
      "outputs": [],
      "source": [
        "# concatenando 2 funções strip().split()\n",
        "\n",
        "texto = \"   bom dia prezados estudantes de python. o python é a melhor linguagem de programação   \"\n",
        "\n",
        "x = texto.strip().split('.')\n",
        "\n",
        "print (texto)\n",
        "print (x)"
      ]
    },
    {
      "cell_type": "code",
      "execution_count": null,
      "metadata": {
        "id": "DmGeMWBrZXQK"
      },
      "outputs": [],
      "source": [
        "# concatenado 2 funções replace().strip() e strip().replace()\n",
        "\n",
        "texto = \"   bom dia prezados estudantes de python. o python é a melhor linguagem de programação   \"\n",
        "\n",
        "x = texto.replace('python', 'ciência de dados', 1).strip()\n",
        "y = texto.strip().replace('python', 'ciência de dados', 1)\n",
        "print (x)\n",
        "print (y)"
      ]
    },
    {
      "cell_type": "code",
      "execution_count": null,
      "metadata": {
        "id": "d8r_Ygh8ZXQL"
      },
      "outputs": [],
      "source": [
        "# concatenando 3 funções replace().strip().split() \n",
        "\n",
        "texto = \"   bom dia prezados estudantes de python. o python é a melhor linguagem de programação   \"\n",
        "\n",
        "x = texto.replace('python', 'ciência de dados', 1).strip().split('.')\n",
        "\n",
        "print (x)"
      ]
    },
    {
      "cell_type": "markdown",
      "metadata": {
        "id": "HRdp4g4_ZXQM"
      },
      "source": [
        "**12) string.startswith(value, start, end)** value obrigatório.   \n",
        "**13) string.endswith(value, start, end)** value obrigatório."
      ]
    },
    {
      "cell_type": "code",
      "execution_count": null,
      "metadata": {
        "id": "WVP7e0SdZXQM"
      },
      "outputs": [],
      "source": [
        "# startswith\n",
        "texto = \"   bom dia prezados estudantes de python. o python é a melhor linguagem de programação   \"\n",
        "\n",
        "x = texto.startswith('bom dia')\n",
        "\n",
        "y = texto.strip().startswith('bom dia')\n",
        "\n",
        "print (x)\n",
        "print (y)"
      ]
    },
    {
      "cell_type": "code",
      "execution_count": null,
      "metadata": {
        "id": "Ane-tBCNZXQN"
      },
      "outputs": [],
      "source": []
    }
  ],
  "metadata": {
    "colab": {
      "collapsed_sections": [],
      "provenance": []
    },
    "kernelspec": {
      "display_name": "Python 3 (ipykernel)",
      "language": "python",
      "name": "python3"
    },
    "language_info": {
      "codemirror_mode": {
        "name": "ipython",
        "version": 3
      },
      "file_extension": ".py",
      "mimetype": "text/x-python",
      "name": "python",
      "nbconvert_exporter": "python",
      "pygments_lexer": "ipython3",
      "version": "3.9.7"
    }
  },
  "nbformat": 4,
  "nbformat_minor": 0
}