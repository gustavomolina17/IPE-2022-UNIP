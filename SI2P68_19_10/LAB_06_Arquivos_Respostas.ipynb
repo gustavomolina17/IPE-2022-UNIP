{
  "cells": [
    {
      "cell_type": "markdown",
      "metadata": {
        "id": "2WOpE7FwdUyk"
      },
      "source": [
        "### **LABORATÓRIO - 06 - MANIPULAÇÃO DE ARQUIVOS - RESPOSTAS**"
      ]
    },
    {
      "cell_type": "markdown",
      "metadata": {
        "id": "QIrt1gG_ipRS"
      },
      "source": [
        "**1) Escreva um programa para incluir nomes e telefones numa agenda (arquivo .TXT), até que o usuário informe \"fim\" no nome.**"
      ]
    },
    {
      "cell_type": "code",
      "execution_count": null,
      "metadata": {
        "id": "wX954TjGdUy5"
      },
      "outputs": [],
      "source": [
        "# Recebe as variáveis.\n",
        "def recebeNome():\n",
        "    return input('Nome: ')\n",
        "    \n",
        "def recebeTel(): \n",
        "    return input('Celular: ')\n",
        "\n",
        "# Abertura o arquivo para gravação \"w\".\n",
        "agenda = open('99_agenda.txt', \"w\") \n",
        "\n",
        "nome = ''\n",
        "while nome != 'fim':\n",
        "    nome = recebeNome()\n",
        "    print(nome)\n",
        "    if nome == 'fim':\n",
        "        break\n",
        "    tel = recebeTel()\n",
        "    # Grava os registros\n",
        "    agenda.write(f'{nome},{tel}\\n')\n",
        "\n",
        "# Fecha os arquivos e liberar recursos.\n",
        "agenda.close()"
      ]
    },
    {
      "cell_type": "markdown",
      "metadata": {
        "id": "pMqcSbHBdUzB"
      },
      "source": [
        "**2) Escreva um programa que recupera todos os registros gravados na agenda (programa anterior) e imprima na tela.**"
      ]
    },
    {
      "cell_type": "code",
      "execution_count": null,
      "metadata": {
        "id": "II7jRYmldUzD"
      },
      "outputs": [],
      "source": [
        "# Abertura o arquivo para gravação \"w\".\n",
        "agenda = open('99_agenda.txt', \"r\") \n",
        "\n",
        "for registro in agenda:\n",
        "    nome, tel = registro.strip().split(',')\n",
        "    print(f\"(Nome: {nome} - telefone: {tel})\")\n",
        "\n",
        "# Fecha os arquivos e liberar recursos.\n",
        "agenda.close()"
      ]
    },
    {
      "cell_type": "markdown",
      "metadata": {
        "id": "SmZi6swIdUzG"
      },
      "source": [
        "**3) Escreva um programa que inclui novos registros ao final do arquivo agenda já existente.**"
      ]
    },
    {
      "cell_type": "code",
      "execution_count": null,
      "metadata": {
        "id": "WV5W-bwqdUzI"
      },
      "outputs": [],
      "source": [
        "# Recebe as variáveis.\n",
        "def recebeNome():\n",
        "    return input('Nome: ')\n",
        "    \n",
        "def recebeTel(): \n",
        "    return input('Celular: ')\n",
        "\n",
        "# Abertura o arquivo para anexação (APPEND) \"a\".\n",
        "agenda = open('99_agenda.txt', \"a\") \n",
        "\n",
        "nome = ''\n",
        "while nome != 'fim':\n",
        "    nome = recebeNome()\n",
        "    if nome == 'fim':\n",
        "        break\n",
        "    tel = recebeTel()\n",
        "    # Grava os registros\n",
        "    agenda.write(f'{nome},{tel}\\n')\n",
        "\n",
        "# Fecha os arquivos e liberar recursos.\n",
        "agenda.close()"
      ]
    },
    {
      "cell_type": "code",
      "execution_count": null,
      "metadata": {
        "id": "SulRf80UdUzQ"
      },
      "outputs": [],
      "source": [
        "# Recebe as variáveis.\n",
        "def recebeNome():\n",
        "    return input('Nome: ')\n",
        "\n",
        "# Abertura o arquivo para leitura \"r\".\n",
        "agenda = open('99_agenda.txt', \"r\") \n",
        "\n",
        "nomeDigitado = ''\n",
        "\n",
        "while nomeDigitado != 'fim':\n",
        "    \n",
        "    nomeExiste = 0\n",
        "    nomeDigitado = recebeNome()\n",
        "    \n",
        "    if nomeDigitado == 'fim':\n",
        "        break\n",
        "\n",
        "    agenda.seek(0)\n",
        "    for registro in agenda:\n",
        "        nomeAgenda, tel = registro.strip().split(',')\n",
        "        if nomeAgenda.lower() == nomeDigitado.lower().strip():\n",
        "            print(f\"(Nome: {nomeAgenda} - telefone: {tel})\")\n",
        "            nomeExiste = 1\n",
        "        \n",
        "    if nomeExiste == 0:\n",
        "        print (f'(Nome: {nomeDigitado} não consta da agenda)')\n",
        "\n",
        "# Fecha os arquivos e liberar recursos.\n",
        "agenda.close()"
      ]
    },
    {
      "cell_type": "code",
      "execution_count": null,
      "metadata": {
        "id": "y3UMQ7AjdUzU"
      },
      "outputs": [],
      "source": []
    }
  ],
  "metadata": {
    "colab": {
      "collapsed_sections": [],
      "provenance": []
    },
    "kernelspec": {
      "display_name": "Python 3 (ipykernel)",
      "language": "python",
      "name": "python3"
    },
    "language_info": {
      "codemirror_mode": {
        "name": "ipython",
        "version": 3
      },
      "file_extension": ".py",
      "mimetype": "text/x-python",
      "name": "python",
      "nbconvert_exporter": "python",
      "pygments_lexer": "ipython3",
      "version": "3.9.7"
    }
  },
  "nbformat": 4,
  "nbformat_minor": 0
}