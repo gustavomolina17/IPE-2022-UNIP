{
  "cells": [
    {
      "cell_type": "markdown",
      "metadata": {
        "id": "ZPfhbWGh0ZoF"
      },
      "source": [
        "### **LABORATÓRIO - 06 - MANIPULAÇAO DE STRINGS E MÉTODOS - RESPOSTAS**"
      ]
    },
    {
      "cell_type": "markdown",
      "metadata": {
        "id": "cfjF_1DR0ZoK"
      },
      "source": [
        "**1) Faça um programa que leia 1 frase e quebre por letras, imprimindo a frase na vertical, ou seja, uma letra por linha.**"
      ]
    },
    {
      "cell_type": "code",
      "execution_count": null,
      "metadata": {
        "id": "W8WrlCiY0ZoL"
      },
      "outputs": [],
      "source": [
        "# utilizar a função len(string)\n",
        "# utilize o fatiamento de strings\n",
        "\n",
        "f = input ('Informe a frase: ')\n",
        "\n",
        "for letra in f[0:len(f)]:\n",
        "    print (letra)"
      ]
    },
    {
      "cell_type": "code",
      "execution_count": null,
      "metadata": {
        "id": "tZQkuhex0ZoN"
      },
      "outputs": [],
      "source": [
        "# Solução Aluno Gabriel Ferreira Leite da Silva - turma 2021-2\n",
        "print(*input(\"Digite sua frase: \"), sep=\"\\n\")"
      ]
    },
    {
      "cell_type": "markdown",
      "metadata": {
        "id": "k22QgOCJ0ZoN"
      },
      "source": [
        "**2) Faça um programa que leia 1 frase e quebre por palavra, imprimindo uma palavra por linha.**"
      ]
    },
    {
      "cell_type": "code",
      "execution_count": null,
      "metadata": {
        "id": "8scqEpiy0ZoN"
      },
      "outputs": [],
      "source": [
        "# utilizar a função len(string)\n",
        "# utilize o fatiamento de strings\n",
        "\n",
        "f = input ('Informe a frase: ')\n",
        "\n",
        "lista = f.split()\n",
        "print(lista)\n",
        "\n",
        "for palavra in lista:\n",
        "    print (palavra)"
      ]
    },
    {
      "cell_type": "code",
      "execution_count": null,
      "metadata": {
        "id": "LJyI91Y20ZoO"
      },
      "outputs": [],
      "source": [
        "# Solução Aluno Gabriel Antoni Souza - turma 2021-2\n",
        "a = input('coloque uma frase:')\n",
        "c = ''\n",
        "for b in a:\n",
        "    c += b\n",
        "    if b == ' ':\n",
        "        print(c)\n",
        "        c = ''\n",
        "print(c)"
      ]
    },
    {
      "cell_type": "markdown",
      "metadata": {
        "id": "QIrt1gG_ipRS"
      },
      "source": [
        "**3) Faça um programa que leia 1 frase. Divide a frase em 2 metades e imprime.**"
      ]
    },
    {
      "cell_type": "code",
      "execution_count": null,
      "metadata": {
        "id": "SmU9rUnS0ZoO"
      },
      "outputs": [],
      "source": [
        "# utilizar a função len(string)\n",
        "# utilize o fatiamento de strings\n",
        "\n",
        "f = input ('Informe a frase: ')\n",
        "\n",
        "fim = len(f)\n",
        "metade = fim//2\n",
        "\n",
        "# fatia da 1ª metade \n",
        "s1 = f[:metade]\n",
        "\n",
        "# fatia da 2ª metade\n",
        "s2 = f[metade:]\n",
        "\n",
        "print (s1)\n",
        "print (s2)"
      ]
    },
    {
      "cell_type": "code",
      "execution_count": null,
      "metadata": {
        "id": "6US_wQ8i0ZoP"
      },
      "outputs": [],
      "source": [
        "# código melhorado\n",
        "# utilizar a função len(string)\n",
        "# utilize o fatiamento de strings\n",
        "\n",
        "f = input ('Informe a frase: ')\n",
        "\n",
        "metade = len(f)//2\n",
        "\n",
        "# fatia da 1ª metade \n",
        "print(f[:metade])\n",
        "\n",
        "# fatia da 2ª metade\n",
        "print(f[metade:])"
      ]
    },
    {
      "cell_type": "code",
      "execution_count": null,
      "metadata": {
        "id": "nJGOAwo-0ZoP"
      },
      "outputs": [],
      "source": [
        "# código melhorado ainda mais\n",
        "# utilizar a função len(string)\n",
        "# utilize o fatiamento de strings\n",
        "\n",
        "f = input ('Informe a frase: ')\n",
        "\n",
        "# fatia da 1ª metade \n",
        "print(f[:len(f)//2])\n",
        "\n",
        "# fatia da 2ª metade\n",
        "print(f[len(f)//2:])"
      ]
    },
    {
      "cell_type": "markdown",
      "metadata": {
        "id": "EHh6UVFp0ZoP"
      },
      "source": [
        "**4) Faça um programa que informe quantas ocorrências da string 'tigre\" na frase:**  \n",
        "**\"um tigre, dois tigres, três tigres, muitos tigres\"** "
      ]
    },
    {
      "cell_type": "code",
      "execution_count": null,
      "metadata": {
        "id": "7TaEtzhb0ZoQ"
      },
      "outputs": [],
      "source": [
        "frase = 'um tigre, dois tigres, três tigres, muitos tigres.'\n",
        "qtd = frase.count('tigre')\n",
        "print(qtd)"
      ]
    },
    {
      "cell_type": "markdown",
      "metadata": {
        "id": "CvVluteK0ZoQ"
      },
      "source": [
        "**5) Faça um programa que informe a posição das ocorrências da string 'tigre\" na frase:**  \n",
        "**\"um tigre, dois tigres, três tigres, muitos tigres\"** "
      ]
    },
    {
      "cell_type": "code",
      "execution_count": null,
      "metadata": {
        "id": "p_N6ROAk0ZoQ"
      },
      "outputs": [],
      "source": [
        "# utilizar o método string.find(value, start, end)\n",
        "\n",
        "s = \"um tigre, dois tigres, três tigres, muitos tigres\"\n",
        "\n",
        "p = 0\n",
        "while p > -1:\n",
        "    p = s.find('tigre', p)\n",
        "    if p >= 0:\n",
        "        print ('Posição: ', p)\n",
        "        p += 1"
      ]
    },
    {
      "cell_type": "markdown",
      "metadata": {
        "id": "ZYZqL7q70ZoR"
      },
      "source": [
        "**6) Faça um programa que leia 1 frase e 1 palavra.**  \n",
        "**- Verifique se a palavra ocorre dentro da frase.**    \n",
        "**- Se sim, imprima a posição de início da 1ª ocorrência.**  \n",
        "**- Se não, imprima msg que a palavra não existe na frase.**  \n",
        "**- Funcionar para letras maiúsculas ou minúsculas.**"
      ]
    },
    {
      "cell_type": "code",
      "execution_count": null,
      "metadata": {
        "id": "K7KQZnuN0ZoR"
      },
      "outputs": [],
      "source": [
        "# utilizar o método string.find(value, start, end), onde 'value' é obrigatório.\n",
        "# e string.lower()\n",
        "\n",
        "frase = input (\"Informe a frase: \")\n",
        "palavra = input (\"Informe a palavra: \")\n",
        "\n",
        "fraseMinúscula = frase.lower()\n",
        "palavraMinúscula = palavra.lower()\n",
        "\n",
        "posição = fraseMinúscula.find(palavraMinúscula)\n",
        "print(posição)                        \n",
        "\n",
        "if posição == -1:\n",
        "    print ('Posição não encontrada')\n",
        "else:\n",
        "    print (f'Palavra: {palavra} na posição: {posição}')       "
      ]
    },
    {
      "cell_type": "code",
      "execution_count": null,
      "metadata": {
        "id": "G2q0IATD0ZoR"
      },
      "outputs": [],
      "source": [
        "# solução mais elegante concatenando num único comando os métodos lower() e find().\n",
        "\n",
        "frase = input (\"Informe a frase: \")\n",
        "palavra = input (\"Informe a palavra: \")\n",
        "\n",
        "posição = frase.lower().find(palavra.lower())   \n",
        "\n",
        "if posição == -1:\n",
        "    print ('Posição não encontrada')\n",
        "else:\n",
        "     print (f'Palavra: {palavra} na posição: {posição}')       "
      ]
    },
    {
      "cell_type": "code",
      "execution_count": null,
      "metadata": {
        "id": "7w9ERDkg0ZoR"
      },
      "outputs": [],
      "source": [
        "# Solução Aluno Gabriel Enrique da S. Fernandez\n",
        "# Não tratou letra maiúsculas e minúsculas\n",
        "frase = input('Digite uma frase: ')\n",
        "palavra = input('Digite uma palavra: ')\n",
        "if palavra in frase:\n",
        "   print (frase.index(palavra))\n",
        "else:\n",
        "    print ('A palavra não existe na frase.')"
      ]
    },
    {
      "cell_type": "code",
      "execution_count": null,
      "metadata": {
        "id": "YhKGWz8V0ZoS"
      },
      "outputs": [],
      "source": [
        "# Solução Aluno Thiago Abndul Pereira Guedes\n",
        "fr = input('informe uma frase: ').lower()\n",
        "plv = input('informe uma palavra: ').lower()\n",
        "\n",
        "pos = fr.find(plv)\n",
        "if fr.find(plv):\n",
        "  print(f'a palavra {plv} aparece na posição {pos}')\n",
        "else:\n",
        "  print('nao há essa palavra')"
      ]
    },
    {
      "cell_type": "code",
      "execution_count": null,
      "metadata": {
        "id": "SjZE5JOX0ZoS"
      },
      "outputs": [],
      "source": []
    }
  ],
  "metadata": {
    "colab": {
      "collapsed_sections": [],
      "provenance": []
    },
    "kernelspec": {
      "display_name": "Python 3 (ipykernel)",
      "language": "python",
      "name": "python3"
    },
    "language_info": {
      "codemirror_mode": {
        "name": "ipython",
        "version": 3
      },
      "file_extension": ".py",
      "mimetype": "text/x-python",
      "name": "python",
      "nbconvert_exporter": "python",
      "pygments_lexer": "ipython3",
      "version": "3.9.7"
    }
  },
  "nbformat": 4,
  "nbformat_minor": 0
}