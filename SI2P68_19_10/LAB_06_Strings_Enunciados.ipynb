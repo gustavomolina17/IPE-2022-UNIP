{
  "cells": [
    {
      "cell_type": "markdown",
      "metadata": {
        "id": "9KYJpPo90J7V"
      },
      "source": [
        "### **LABORATÓRIO - 06 - MANIPULAÇAO DE STRINGS E MÉTODOS - ENUNCIADOS**"
      ]
    },
    {
      "cell_type": "markdown",
      "metadata": {
        "id": "bReIscLG0J7a"
      },
      "source": [
        "**1) Faça um programa que leia 1 frase e quebre por letras, imprimindo a frase na vertical, ou seja, uma letra por linha.**"
      ]
    },
    {
      "cell_type": "code",
      "execution_count": null,
      "metadata": {
        "id": "VPgOvca60J7b"
      },
      "outputs": [],
      "source": []
    },
    {
      "cell_type": "markdown",
      "metadata": {
        "id": "nfwFQTJ00J7c"
      },
      "source": [
        "**2) Faça um programa que leia 1 frase e quebre por palavra, imprimindo uma palavra por linha.**"
      ]
    },
    {
      "cell_type": "code",
      "execution_count": null,
      "metadata": {
        "id": "No1jkrq00J7c"
      },
      "outputs": [],
      "source": []
    },
    {
      "cell_type": "markdown",
      "metadata": {
        "id": "QIrt1gG_ipRS"
      },
      "source": [
        "**3) Faça um programa que leia 1 frase. Divide a frase em 2 metades e imprime.**"
      ]
    },
    {
      "cell_type": "code",
      "execution_count": null,
      "metadata": {
        "id": "67Y1HM2D0J7d"
      },
      "outputs": [],
      "source": []
    },
    {
      "cell_type": "markdown",
      "metadata": {
        "id": "wYjQZqlh0J7d"
      },
      "source": [
        "**4) Faça um programa que informe quantas ocorrências da string 'tigre\" na frase:**  \n",
        "**\"um tigre, dois tigres, três tigres, muitos tigres\"** "
      ]
    },
    {
      "cell_type": "code",
      "execution_count": null,
      "metadata": {
        "id": "0Ff8O9LO0J7e"
      },
      "outputs": [],
      "source": []
    },
    {
      "cell_type": "markdown",
      "metadata": {
        "id": "iGTbb-Uh0J7e"
      },
      "source": [
        "**5) Faça um programa que informe a posição das ocorrências da string 'tigre\" na frase:**  \n",
        "**\"um tigre, dois tigres, três tigres, muitos tigres\"** "
      ]
    },
    {
      "cell_type": "code",
      "execution_count": null,
      "metadata": {
        "id": "C7KFLnQf0J7e"
      },
      "outputs": [],
      "source": []
    },
    {
      "cell_type": "markdown",
      "metadata": {
        "id": "tNRF-VIx0J7f"
      },
      "source": [
        "**6) Faça um programa que leia 1 frase e 1 palavra.**  \n",
        "**- Verifique se a palavra ocorre dentro da frase.**    \n",
        "**- Se sim, imprima a posição de início da 1ª ocorrência.**  \n",
        "**- Se não, imprima msg que a palavra não existe na frase.**  \n",
        "**- Funcionar para letras maiúsculas ou minúsculas.**"
      ]
    },
    {
      "cell_type": "code",
      "execution_count": null,
      "metadata": {
        "id": "aCZt1yGO0J7f"
      },
      "outputs": [],
      "source": [
        "   "
      ]
    },
    {
      "cell_type": "code",
      "execution_count": null,
      "metadata": {
        "id": "FpSK5V4J0J7g"
      },
      "outputs": [],
      "source": [
        " "
      ]
    },
    {
      "cell_type": "code",
      "execution_count": null,
      "metadata": {
        "id": "aHn8bHcy0J7g"
      },
      "outputs": [],
      "source": []
    }
  ],
  "metadata": {
    "colab": {
      "collapsed_sections": [],
      "provenance": []
    },
    "kernelspec": {
      "display_name": "Python 3 (ipykernel)",
      "language": "python",
      "name": "python3"
    },
    "language_info": {
      "codemirror_mode": {
        "name": "ipython",
        "version": 3
      },
      "file_extension": ".py",
      "mimetype": "text/x-python",
      "name": "python",
      "nbconvert_exporter": "python",
      "pygments_lexer": "ipython3",
      "version": "3.9.7"
    }
  },
  "nbformat": 4,
  "nbformat_minor": 0
}