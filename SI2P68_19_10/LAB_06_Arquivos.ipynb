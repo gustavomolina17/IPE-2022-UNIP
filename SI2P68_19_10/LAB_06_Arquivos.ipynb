{
  "cells": [
    {
      "cell_type": "markdown",
      "metadata": {
        "id": "rLt2N0LcbJcc"
      },
      "source": [
        "### **Laboratório 6 - Manipulação de Arquivos**"
      ]
    },
    {
      "cell_type": "markdown",
      "metadata": {
        "id": "-whqJc7jbJcv"
      },
      "source": [
        "#### 1) GRAVAÇÃO - Gravando um arquivo .txt \n",
        "O arquivo precisar estar no diretório do .PY ou indicar o caminho completo caso deseje trabalhar localmente em sua máquina."
      ]
    },
    {
      "cell_type": "code",
      "execution_count": null,
      "metadata": {
        "id": "nFYcZYgfbJcy"
      },
      "outputs": [],
      "source": [
        "# Abertura do arquivo para gravação \"w+\". Caso o arquivo não exista, ele será criado\n",
        "arq = open('alunos.txt', \"w+\")\n",
        "texto = \"\"\"\n",
        "Lista de Alunos\n",
        "----------------\n",
        "Chuck Norris\n",
        "Zé Bonitinho\n",
        "Batman\n",
        "Bruce Lee\n",
        "Myke Myers\n",
        "\"\"\"\n",
        "arq.write(texto) # O método write grava (escreve) nosso conteúdo no arquivo\n",
        "arq.close() # Serve para fechar o arquivo e dessa forma liberar os recursos do sistema.\n",
        "\n",
        "\n",
        "\n",
        "\n"
      ]
    },
    {
      "cell_type": "code",
      "execution_count": null,
      "metadata": {
        "colab": {
          "base_uri": "https://localhost:8080/"
        },
        "id": "2lV1GcfSbJc7",
        "outputId": "d7e68f4a-d03f-46d0-f82d-a1be94234d2b"
      },
      "outputs": [
        {
          "output_type": "execute_result",
          "data": {
            "text/plain": [
              "True"
            ]
          },
          "metadata": {},
          "execution_count": 2
        }
      ],
      "source": [
        "# Não confundir o método \"closed\" com \"close()\"\n",
        "\n",
        "# Testa se o arquivo está fechado - resultado booleano. \n",
        "arq.closed"
      ]
    },
    {
      "cell_type": "code",
      "source": [
        "# Observações Importantes:\n",
        "# w - Escrita. Substitui o arquivo existente\n",
        "# w+ - Escrita. Atualiza o arquivo, ou seja, mantém o conteúdo anterior e adiciona o novo conteúdo\n",
        "# a+ - Escrita. Insere os novos dados no final do arquivo.\n",
        "# Toda vez que formos adicionar um conteúdo novo ao arquivo devemos primeiramente abrir o arquivo.\n",
        "# Após a atualização, não esquecer de usar o método close ().\n",
        "\n",
        "arq = open('alunos.txt', \"a+\")\n",
        "texto = \"\"\"\n",
        "Jason Vorhes\n",
        "Freddy Kruger\n",
        "Cleopatra Silva\n",
        "\"\"\"\n",
        "arq.write(texto)\n",
        "arq.close()"
      ],
      "metadata": {
        "id": "QSLD3-1Jb8qt"
      },
      "execution_count": null,
      "outputs": []
    },
    {
      "cell_type": "code",
      "source": [
        "##GRAVAÇÃO - APPEND\n",
        "\n",
        "arq = open('filmes.txt', \"w+\")\n",
        "texto = []\n",
        "texto.append('Lista de Filmes de Terror\\n')\n",
        "texto.append('--------------------------\\n')\n",
        "texto.append('Jogos Mortais\\n')\n",
        "texto.append('Centopéia Humana\\n')\n",
        "texto.append('Sexta-Feira 13\\n')\n",
        "texto.append('O Exorcista\\n')\n",
        "arq.writelines(texto) # O comando writelines adiciona \"várias linhas\" simultaneamente ao nosso arquivo.\n",
        "arq.close()\n"
      ],
      "metadata": {
        "id": "dXV7psJlh1IZ"
      },
      "execution_count": null,
      "outputs": []
    },
    {
      "cell_type": "markdown",
      "metadata": {
        "id": "eZvwp0ubbJdS"
      },
      "source": [
        "#### 2) LEITURA DO ARQUIVO .TXT.  \n",
        "O arquivo precisar estar no diretório do .PY ou indicar o caminho."
      ]
    },
    {
      "cell_type": "code",
      "execution_count": null,
      "metadata": {
        "id": "nopeUlJWbJdU",
        "colab": {
          "base_uri": "https://localhost:8080/"
        },
        "outputId": "05c3f472-6190-44b7-f93b-9ea64d0a0933"
      },
      "outputs": [
        {
          "output_type": "stream",
          "name": "stdout",
          "text": [
            "\n",
            "Lista de Alunos\n",
            "----------------\n",
            "Chuck Norris\n",
            "Zé Bonitinho\n",
            "Batman\n",
            "Bruce Lee\n",
            "Myke Myers\n",
            "\n",
            "Jason Vorhes\n",
            "Freddy Kruger\n",
            "Cleopatra Silva\n",
            "\n"
          ]
        }
      ],
      "source": [
        "arq = open('alunos.txt','r+')\n",
        "texto = arq.read() #Faz a leitura de todo o arquivo\n",
        "print (texto) # Exibe todo o conteúdo do arquivo\n",
        "arq.close()"
      ]
    },
    {
      "cell_type": "code",
      "source": [
        "arq = open('filmes.txt','r+')\n",
        "texto = arq.read() #Faz a leitura de todo o arquivo\n",
        "print (texto) # Exibe todo o conteúdo do arquivo\n",
        "arq.close()"
      ],
      "metadata": {
        "colab": {
          "base_uri": "https://localhost:8080/"
        },
        "id": "7OLvOSjgmIj7",
        "outputId": "3a24e5fb-9e05-40c6-fed5-62e368c374f1"
      },
      "execution_count": null,
      "outputs": [
        {
          "output_type": "stream",
          "name": "stdout",
          "text": [
            "Lista de Filmes de Terror\n",
            "--------------------------\n",
            "Jogos Mortais\n",
            "Centopéia Humana\n",
            "Sexta-Feira 13\n",
            "O Exorcista\n",
            "\n"
          ]
        }
      ]
    },
    {
      "cell_type": "code",
      "source": [
        "# O método readlines() retorna o todo o conteúdo do arquivo em uma lista de strings,\n",
        "# cada item da lista representa uma linha do arquivo.\n",
        "\n",
        "arq = open('filmes.txt','r+')\n",
        "texto = arq.readlines()\n",
        "for linha in texto:\n",
        "  print (linha)\n",
        "arq.close()"
      ],
      "metadata": {
        "colab": {
          "base_uri": "https://localhost:8080/"
        },
        "id": "7BDm9dP8mO8m",
        "outputId": "25caa579-b29a-4ca7-9f99-83e3b4fbceda"
      },
      "execution_count": null,
      "outputs": [
        {
          "output_type": "stream",
          "name": "stdout",
          "text": [
            "Lista de Filmes de Terror\n",
            "\n",
            "--------------------------\n",
            "\n",
            "Jogos Mortais\n",
            "\n",
            "Centopéia Humana\n",
            "\n",
            "Sexta-Feira 13\n",
            "\n",
            "O Exorcista\n",
            "\n"
          ]
        }
      ]
    }
  ],
  "metadata": {
    "colab": {
      "collapsed_sections": [],
      "provenance": []
    },
    "kernelspec": {
      "display_name": "Python 3 (ipykernel)",
      "language": "python",
      "name": "python3"
    },
    "language_info": {
      "codemirror_mode": {
        "name": "ipython",
        "version": 3
      },
      "file_extension": ".py",
      "mimetype": "text/x-python",
      "name": "python",
      "nbconvert_exporter": "python",
      "pygments_lexer": "ipython3",
      "version": "3.9.7"
    }
  },
  "nbformat": 4,
  "nbformat_minor": 0
}