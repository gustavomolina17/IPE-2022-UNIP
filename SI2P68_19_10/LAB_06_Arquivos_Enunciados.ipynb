{
  "cells": [
    {
      "cell_type": "markdown",
      "metadata": {
        "id": "GJvWygRyc5df"
      },
      "source": [
        "### **LABORATÓRIO - 06 - MANIPULAÇÃO DE ARQUIVOS**"
      ]
    },
    {
      "cell_type": "markdown",
      "metadata": {
        "id": "QIrt1gG_ipRS"
      },
      "source": [
        "**1) Escreva um programa para incluir nomes e telefones numa agenda (arquivo .TXT), até que o usuário informe \"fim\" no nome.**"
      ]
    },
    {
      "cell_type": "code",
      "execution_count": null,
      "metadata": {
        "id": "MWHtf2gac5dz"
      },
      "outputs": [],
      "source": []
    },
    {
      "cell_type": "markdown",
      "metadata": {
        "id": "Q-tMIa6ic5d2"
      },
      "source": [
        "**2) Escreva um programa que recupera todos os registros gravados na agenda (programa anterior) e imprima na tela.**"
      ]
    },
    {
      "cell_type": "code",
      "execution_count": null,
      "metadata": {
        "id": "dAI9w2hqc5d4"
      },
      "outputs": [],
      "source": []
    },
    {
      "cell_type": "markdown",
      "metadata": {
        "id": "6FZKx7Zpc5d6"
      },
      "source": [
        "**3) Escreva um programa que inclui novos registros ao final do arquivo agenda já existente.**"
      ]
    },
    {
      "cell_type": "code",
      "execution_count": null,
      "metadata": {
        "id": "VCBoaQIBc5d7"
      },
      "outputs": [],
      "source": []
    },
    {
      "cell_type": "code",
      "execution_count": null,
      "metadata": {
        "id": "lCRvJ6C3c5eB"
      },
      "outputs": [],
      "source": []
    },
    {
      "cell_type": "code",
      "execution_count": null,
      "metadata": {
        "id": "jkVvuiU3c5eD"
      },
      "outputs": [],
      "source": []
    }
  ],
  "metadata": {
    "colab": {
      "collapsed_sections": [],
      "provenance": []
    },
    "kernelspec": {
      "display_name": "Python 3",
      "language": "python",
      "name": "python3"
    },
    "language_info": {
      "codemirror_mode": {
        "name": "ipython",
        "version": 3
      },
      "file_extension": ".py",
      "mimetype": "text/x-python",
      "name": "python",
      "nbconvert_exporter": "python",
      "pygments_lexer": "ipython3",
      "version": "3.8.5"
    }
  },
  "nbformat": 4,
  "nbformat_minor": 0
}