{
 "cells": [
  {
   "cell_type": "markdown",
   "metadata": {
    "slideshow": {
     "slide_type": "fragment"
    }
   },
   "source": [
    "### **FUNÇÃO - ARQUIVOS**"
   ]
  },
  {
   "cell_type": "markdown",
   "metadata": {},
   "source": [
    "#### 1) GRAVAÇÃO - Gravando um arquivo .TXT - com 50 linhas, cada linha um número.  \n",
    "O arquivo precisar estar no diretório do .PY ou indicar o caminho."
   ]
  },
  {
   "cell_type": "code",
   "execution_count": null,
   "metadata": {},
   "outputs": [],
   "source": [
    "# Abertura do arquivo para gravação \"w\".\n",
    "números = open('99_números.txt', \"w+\")"
   ]
  },
  {
   "cell_type": "code",
   "execution_count": null,
   "metadata": {},
   "outputs": [],
   "source": [
    "# O método WRITE (escreve) para gravação de registros.for linha in range (1, 10):\n",
    "constante = 'navegar é preciso, viver não é preciso.'\n",
    "for linha in range (1,10):     \n",
    "    números.write(f'{linha} {constante}\\n')   "
   ]
  },
  {
   "cell_type": "code",
   "execution_count": null,
   "metadata": {},
   "outputs": [],
   "source": [
    "# Não confundir o método \"closed\" com \"close()\"\n",
    "\n",
    "# Testa se o arquivo está fechado - resultado booleano. \n",
    "números.closed"
   ]
  },
  {
   "cell_type": "code",
   "execution_count": null,
   "metadata": {},
   "outputs": [],
   "source": [
    "# O método CLOSE serve fechar o arquivo - importante para liberar recursos do sistema.\n",
    "números.close()    "
   ]
  },
  {
   "cell_type": "code",
   "execution_count": null,
   "metadata": {},
   "outputs": [],
   "source": [
    "números.closed"
   ]
  },
  {
   "cell_type": "code",
   "execution_count": null,
   "metadata": {},
   "outputs": [],
   "source": [
    "# Abertura do arquivo para leitura \"r\"\n",
    "números = open('99_números.txt', \"r\")"
   ]
  },
  {
   "cell_type": "code",
   "execution_count": null,
   "metadata": {},
   "outputs": [],
   "source": [
    "# Método READLINE faz a leitura linha a linha ou registro a registro.\n",
    "print(números.readline())"
   ]
  },
  {
   "cell_type": "code",
   "execution_count": null,
   "metadata": {},
   "outputs": [],
   "source": [
    "# Retorna um inteiro que significa a posição corrente no arquivo, representada pelo nº de bytes desde o início do arquivo.\n",
    "números.tell()"
   ]
  },
  {
   "cell_type": "code",
   "execution_count": null,
   "metadata": {},
   "outputs": [],
   "source": [
    "# O método SEEK retorna a posição do arquivo para a posição informada.\n",
    "números.seek(3)"
   ]
  },
  {
   "cell_type": "code",
   "execution_count": null,
   "metadata": {},
   "outputs": [],
   "source": [
    "# O método\n",
    "print(números.read())"
   ]
  },
  {
   "cell_type": "code",
   "execution_count": null,
   "metadata": {},
   "outputs": [],
   "source": [
    "# Observe que o FOR está dentro do WITH.\n",
    "# Os arquivos são fechados automaticamente. \n",
    "with open(\"99_ímpares.txt\", \"w\") as ímpares:\n",
    "    with open(\"99_pares.txt\", \"w\") as pares:\n",
    "        for n in range(0, 25):\n",
    "            if n % 2 == 0:\n",
    "                pares.write(f\"{n}\\n\")\n",
    "            else:\n",
    "                ímpares.write(f\"{n}\\n\")                "
   ]
  },
  {
   "cell_type": "code",
   "execution_count": null,
   "metadata": {},
   "outputs": [],
   "source": [
    "ímpares.closed"
   ]
  },
  {
   "cell_type": "code",
   "execution_count": null,
   "metadata": {},
   "outputs": [],
   "source": [
    "pares.closed"
   ]
  },
  {
   "cell_type": "markdown",
   "metadata": {},
   "source": [
    "#### 2) LEITURA DO ARQUIVO .TXT.  \n",
    "O arquivo precisar estar no diretório do .PY ou indicar o caminho."
   ]
  },
  {
   "cell_type": "code",
   "execution_count": null,
   "metadata": {},
   "outputs": [],
   "source": [
    "arquivo = open('99_números.txt', 'r')"
   ]
  },
  {
   "cell_type": "code",
   "execution_count": null,
   "metadata": {},
   "outputs": [],
   "source": [
    "arquivo.readline()"
   ]
  },
  {
   "cell_type": "code",
   "execution_count": null,
   "metadata": {},
   "outputs": [],
   "source": [
    "arquivo.seek(0)"
   ]
  },
  {
   "cell_type": "code",
   "execution_count": null,
   "metadata": {},
   "outputs": [],
   "source": [
    "arquivo.readline(5)"
   ]
  },
  {
   "cell_type": "code",
   "execution_count": null,
   "metadata": {},
   "outputs": [],
   "source": [
    "arquivo.readlines()"
   ]
  },
  {
   "cell_type": "code",
   "execution_count": null,
   "metadata": {},
   "outputs": [],
   "source": [
    "arquivo.readlines(50)"
   ]
  },
  {
   "cell_type": "code",
   "execution_count": null,
   "metadata": {},
   "outputs": [],
   "source": [
    "arquivo.read()"
   ]
  },
  {
   "cell_type": "code",
   "execution_count": null,
   "metadata": {},
   "outputs": [],
   "source": [
    "arquivo.seek(0)\n",
    "print(arquivo.readline())\n",
    "for linha in arquivo.readline():\n",
    "    print (linha) "
   ]
  },
  {
   "cell_type": "code",
   "execution_count": null,
   "metadata": {},
   "outputs": [],
   "source": [
    "arquivo.seek(0)\n",
    "for linha in arquivo.readline():\n",
    "    print (linha, end='') "
   ]
  },
  {
   "cell_type": "code",
   "execution_count": null,
   "metadata": {},
   "outputs": [],
   "source": [
    "arquivo.seek(0)\n",
    "for linha in arquivo.readlines():\n",
    "    print (linha)      "
   ]
  },
  {
   "cell_type": "code",
   "execution_count": null,
   "metadata": {},
   "outputs": [],
   "source": [
    "arquivo.seek(0)\n",
    "for linha in arquivo.readlines():\n",
    "    print (linha, end='')  "
   ]
  },
  {
   "cell_type": "code",
   "execution_count": null,
   "metadata": {},
   "outputs": [],
   "source": [
    "arquivo.seek(0)\n",
    "for linha in arquivo.readlines():\n",
    "    print (linha[:-1])     "
   ]
  },
  {
   "cell_type": "code",
   "execution_count": null,
   "metadata": {},
   "outputs": [],
   "source": [
    "arquivo.seek(0)\n",
    "for linha in arquivo:\n",
    "    print (linha)    "
   ]
  },
  {
   "cell_type": "code",
   "execution_count": null,
   "metadata": {},
   "outputs": [],
   "source": [
    "arquivo.seek(0)\n",
    "for linha in arquivo:\n",
    "    print (linha, end='')  "
   ]
  },
  {
   "cell_type": "code",
   "execution_count": null,
   "metadata": {},
   "outputs": [],
   "source": [
    "arquivo.close()  "
   ]
  },
  {
   "cell_type": "markdown",
   "metadata": {},
   "source": [
    "#### 3) LEITURA DO ARQUIVO .TXT - uso do WITH."
   ]
  },
  {
   "cell_type": "code",
   "execution_count": null,
   "metadata": {},
   "outputs": [],
   "source": [
    "with open('99_números.txt', 'r') as arquivo:\n",
    "    for linha in arquivo.readlines():\n",
    "        print(linha)"
   ]
  },
  {
   "cell_type": "code",
   "execution_count": null,
   "metadata": {},
   "outputs": [],
   "source": [
    "with open('99_números.txt', 'r') as arquivo:\n",
    "    for linha in arquivo.readlines():\n",
    "        print(linha[:-1])"
   ]
  },
  {
   "cell_type": "code",
   "execution_count": null,
   "metadata": {},
   "outputs": [],
   "source": [
    "arquivo.close()"
   ]
  },
  {
   "cell_type": "markdown",
   "metadata": {},
   "source": [
    "#### 4) GRAVAÇÃO APPEND - incluindo novos registros ao final do arquivo."
   ]
  },
  {
   "cell_type": "code",
   "execution_count": null,
   "metadata": {},
   "outputs": [],
   "source": [
    "# Abertura do arquivo para anexar mais registros (APPEND) \"a\".\n",
    "números = open('99_números.txt', \"a\")"
   ]
  },
  {
   "cell_type": "code",
   "execution_count": null,
   "metadata": {},
   "outputs": [],
   "source": [
    "# O método WRITE (escreve) para gravação de registros.for linha in range (1, 10):\n",
    "for linha in range (50,70, 2):     \n",
    "    números.write(f'{linha}\\n')   "
   ]
  },
  {
   "cell_type": "code",
   "execution_count": null,
   "metadata": {},
   "outputs": [],
   "source": [
    "números.close()"
   ]
  },
  {
   "cell_type": "code",
   "execution_count": null,
   "metadata": {},
   "outputs": [],
   "source": [
    "# Nome do arquivo obtido por digitação do usuário.\n",
    "fileName = input(\"Digite o nome do arquivo: \")\n",
    "números = open(fileName, \"a\")\n",
    "for linha in range (100,105):     \n",
    "    números.write(f'{linha}\\n')\n",
    "números.close()    "
   ]
  },
  {
   "cell_type": "code",
   "execution_count": null,
   "metadata": {},
   "outputs": [],
   "source": []
  }
 ],
 "metadata": {
  "colab": {
   "collapsed_sections": [],
   "name": "01_CuidadosDigitação.ipynb",
   "provenance": []
  },
  "kernelspec": {
   "display_name": "Python 3 (ipykernel)",
   "language": "python",
   "name": "python3"
  },
  "language_info": {
   "codemirror_mode": {
    "name": "ipython",
    "version": 3
   },
   "file_extension": ".py",
   "mimetype": "text/x-python",
   "name": "python",
   "nbconvert_exporter": "python",
   "pygments_lexer": "ipython3",
   "version": "3.9.7"
  }
 },
 "nbformat": 4,
 "nbformat_minor": 1
}
