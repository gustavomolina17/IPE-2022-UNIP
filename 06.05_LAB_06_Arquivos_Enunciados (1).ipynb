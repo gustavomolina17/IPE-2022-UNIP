{
 "cells": [
  {
   "cell_type": "markdown",
   "metadata": {
    "slideshow": {
     "slide_type": "fragment"
    }
   },
   "source": [
    "### **LABORATÓRIO - 07 - MANIPULAÇÃO DE ARQUIVOS - RESPOSTAS**"
   ]
  },
  {
   "cell_type": "markdown",
   "metadata": {
    "id": "QIrt1gG_ipRS"
   },
   "source": [
    "**1) Escreva um programa para incluir nomes e telefones numa agenda (arquivo .TXT), até que o usuário informe \"fim\" no nome.**"
   ]
  },
  {
   "cell_type": "code",
   "execution_count": null,
   "metadata": {},
   "outputs": [],
   "source": []
  },
  {
   "cell_type": "markdown",
   "metadata": {
    "id": "QIrt1gG_ipRS"
   },
   "source": [
    "**2) Escreva um programa que recupera todos os registros gravados na agenda (programa anterior) e imprima na tela.**"
   ]
  },
  {
   "cell_type": "code",
   "execution_count": null,
   "metadata": {},
   "outputs": [],
   "source": []
  },
  {
   "cell_type": "markdown",
   "metadata": {
    "id": "QIrt1gG_ipRS"
   },
   "source": [
    "**3) Escreva um programa que inclui novos registros ao final do arquivo agenda já existente.**"
   ]
  },
  {
   "cell_type": "code",
   "execution_count": null,
   "metadata": {},
   "outputs": [],
   "source": []
  },
  {
   "cell_type": "markdown",
   "metadata": {
    "id": "QIrt1gG_ipRS"
   },
   "source": [
    "**4) Escreva um programa para receber um nome e pesquisar se está na agenda: se existir imprimir o telefone, se não mensagem de inexistente.**"
   ]
  },
  {
   "cell_type": "code",
   "execution_count": null,
   "metadata": {},
   "outputs": [],
   "source": []
  },
  {
   "cell_type": "code",
   "execution_count": null,
   "metadata": {},
   "outputs": [],
   "source": []
  }
 ],
 "metadata": {
  "colab": {
   "collapsed_sections": [],
   "name": "01_CuidadosDigitação.ipynb",
   "provenance": []
  },
  "kernelspec": {
   "display_name": "Python 3",
   "language": "python",
   "name": "python3"
  },
  "language_info": {
   "codemirror_mode": {
    "name": "ipython",
    "version": 3
   },
   "file_extension": ".py",
   "mimetype": "text/x-python",
   "name": "python",
   "nbconvert_exporter": "python",
   "pygments_lexer": "ipython3",
   "version": "3.8.5"
  }
 },
 "nbformat": 4,
 "nbformat_minor": 1
}
